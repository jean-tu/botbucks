{
 "cells": [
  {
   "cell_type": "code",
   "execution_count": 1,
   "metadata": {
    "collapsed": true
   },
   "outputs": [],
   "source": [
    "import pandas as pd\n",
    "import numpy as np \n",
    "import pandas_datareader.data as pdr\n",
    "import matplotlib.pyplot as plt\n",
    "import requests\n",
    "import json\n",
    "from urlparse import urlparse"
   ]
  },
  {
   "cell_type": "code",
   "execution_count": 5,
   "metadata": {
    "collapsed": true
   },
   "outputs": [],
   "source": [
    "p = {\n",
    "    'identifiers':\"GOOG\",\n",
    "    'fromDate' : 't/m'\n",
    "}\n",
    "\n",
    "portfolioAnalysisRequest = requests.get(\"https://www.blackrock.com/tools/hackathon/search-securities\", \n",
    "                                                                   params= p).json()\n",
    "\n",
    "with open('portfolioAnalysisRequest.json', 'w') as outfile: json.dump(portfolioAnalysisRequest, outfile)"
   ]
  },
  {
   "cell_type": "code",
   "execution_count": null,
   "metadata": {},
   "outputs": [],
   "source": [
    "print portfolioAnalysisRequest['resultMap']['SEARCH_RESULTS'][0]['resultLength']"
   ]
  },
  {
   "cell_type": "code",
   "execution_count": 2,
   "metadata": {
    "collapsed": true
   },
   "outputs": [],
   "source": [
    "p = {\n",
    "    'fromDate':'t/m'\n",
    "}\n",
    "stockAnalysisRequest = requests.get(\"https://www.blackrock.com/tools/hackathon/security-data?identifiers=GOOG&includePrices=true&query=GOOG\",\n",
    "                                   params = p).json()\n",
    "\n",
    "with open('stockAnalysisRequest.json', 'w') as outfile: json.dump(stockAnalysisRequest, outfile)"
   ]
  },
  {
   "cell_type": "code",
   "execution_count": 15,
   "metadata": {},
   "outputs": [
    {
     "data": {
      "text/html": [
       "<div>\n",
       "<style>\n",
       "    .dataframe thead tr:only-child th {\n",
       "        text-align: right;\n",
       "    }\n",
       "\n",
       "    .dataframe thead th {\n",
       "        text-align: left;\n",
       "    }\n",
       "\n",
       "    .dataframe tbody tr th {\n",
       "        vertical-align: top;\n",
       "    }\n",
       "</style>\n",
       "<table border=\"1\" class=\"dataframe\">\n",
       "  <thead>\n",
       "    <tr style=\"text-align: right;\">\n",
       "      <th></th>\n",
       "      <th>@type</th>\n",
       "      <th>calculationTime</th>\n",
       "      <th>maxScore</th>\n",
       "      <th>numFound</th>\n",
       "      <th>request</th>\n",
       "      <th>responseHeader</th>\n",
       "      <th>resultLength</th>\n",
       "      <th>resultList</th>\n",
       "      <th>solrQueryTime</th>\n",
       "      <th>start</th>\n",
       "    </tr>\n",
       "  </thead>\n",
       "  <tbody>\n",
       "    <tr>\n",
       "      <th>0</th>\n",
       "      <td>_bws.SearchResults</td>\n",
       "      <td>0</td>\n",
       "      <td>0.0</td>\n",
       "      <td>0</td>\n",
       "      <td>{u'requestUser': {u'@type': u'_bws.user.Simple...</td>\n",
       "      <td>{u'status': 0, u'QTime': 4, u'params': {u'fq':...</td>\n",
       "      <td>1652</td>\n",
       "      <td>[]</td>\n",
       "      <td>4</td>\n",
       "      <td>0</td>\n",
       "    </tr>\n",
       "  </tbody>\n",
       "</table>\n",
       "</div>"
      ],
      "text/plain": [
       "                @type  calculationTime  maxScore  numFound  \\\n",
       "0  _bws.SearchResults                0       0.0         0   \n",
       "\n",
       "                                             request  \\\n",
       "0  {u'requestUser': {u'@type': u'_bws.user.Simple...   \n",
       "\n",
       "                                      responseHeader  resultLength resultList  \\\n",
       "0  {u'status': 0, u'QTime': 4, u'params': {u'fq':...          1652         []   \n",
       "\n",
       "   solrQueryTime  start  \n",
       "0              4      0  "
      ]
     },
     "execution_count": 15,
     "metadata": {},
     "output_type": "execute_result"
    }
   ],
   "source": [
    "df = pd.DataFrame.from_dict(portfolioAnalysisRequest['resultMap']['SEARCH_RESULTS'])\n",
    "df"
   ]
  }
 ],
 "metadata": {
  "kernelspec": {
   "display_name": "Python 2",
   "language": "python",
   "name": "python2"
  },
  "language_info": {
   "codemirror_mode": {
    "name": "ipython",
    "version": 2
   },
   "file_extension": ".py",
   "mimetype": "text/x-python",
   "name": "python",
   "nbconvert_exporter": "python",
   "pygments_lexer": "ipython2",
   "version": "2.7.14"
  }
 },
 "nbformat": 4,
 "nbformat_minor": 2
}
