{
 "cells": [
  {
   "cell_type": "code",
   "execution_count": 5,
   "metadata": {
    "collapsed": true
   },
   "outputs": [],
   "source": [
    "import pandas as pd\n",
    "import numpy as np \n",
    "import pandas_datareader.data as pdr\n",
    "import matplotlib.pyplot as plt\n",
    "import requests\n",
    "import json\n",
    "from urlparse import urlparse"
   ]
  },
  {
   "cell_type": "code",
   "execution_count": null,
   "metadata": {
    "collapsed": true
   },
   "outputs": [],
   "source": [
    "p = {\n",
    "    'identifiers':\"GOOG\",\n",
    "    'fromDate' : 't/m'\n",
    "}\n",
    "\n",
    "portfolioAnalysisRequest = requests.get(\"https://www.blackrock.com/tools/hackathon/search-securities\", \n",
    "                                                                   params= p).json()\n",
    "\n",
    "with open('portfolioAnalysisRequest.json', 'w') as outfile: json.dump(portfolioAnalysisRequest, outfile)"
   ]
  },
  {
   "cell_type": "code",
   "execution_count": null,
   "metadata": {
    "collapsed": true
   },
   "outputs": [],
   "source": [
    "print portfolioAnalysisRequest['resultMap']['SEARCH_RESULTS'][0]['resultLength']"
   ]
  },
  {
   "cell_type": "code",
   "execution_count": 9,
   "metadata": {
    "collapsed": true
   },
   "outputs": [],
   "source": [
    "p = {\n",
    "    'fromDate':'t/m'\n",
    "}\n",
    "stockAnalysisRequest = requests.get(\"https://www.blackrock.com/tools/hackathon/security-data?identifiers=GOOG&includePrices=true&query=GOOG\",\n",
    "                                   params = p).json()\n",
    "\n",
    "with open('stockAnalysisRequest.json', 'w') as outfile: json.dump(stockAnalysisRequest, outfile)"
   ]
  },
  {
   "cell_type": "code",
   "execution_count": null,
   "metadata": {
    "collapsed": true
   },
   "outputs": [],
   "source": []
  },
  {
   "cell_type": "code",
   "execution_count": null,
   "metadata": {
    "collapsed": true
   },
   "outputs": [],
   "source": []
  }
 ],
 "metadata": {
  "kernelspec": {
   "display_name": "Python 2",
   "language": "python",
   "name": "python2"
  },
  "language_info": {
   "codemirror_mode": {
    "name": "ipython",
    "version": 2
   },
   "file_extension": ".py",
   "mimetype": "text/x-python",
   "name": "python",
   "nbconvert_exporter": "python",
   "pygments_lexer": "ipython2",
   "version": "2.7.14"
  }
 },
 "nbformat": 4,
 "nbformat_minor": 2
}
