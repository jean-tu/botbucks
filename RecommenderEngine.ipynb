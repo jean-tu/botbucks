{
 "cells": [
  {
   "cell_type": "code",
   "execution_count": 1,
   "metadata": {
    "collapsed": true
   },
   "outputs": [],
   "source": [
    "import pandas as pd\n",
    "import numpy as np\n",
    "import datetime\n",
    "import requests\n",
    "from portfoliomaker import createPortfolio \n",
    "import matplotlib.pyplot as plt\n",
    "import json\n",
    "from itertools import islice"
   ]
  },
  {
   "cell_type": "code",
   "execution_count": 2,
   "metadata": {
    "collapsed": true
   },
   "outputs": [],
   "source": [
    "with open('SnP500.txt', 'r') as f:\n",
    "    SnP = ''.join(f.readlines()).split()"
   ]
  },
  {
   "cell_type": "code",
   "execution_count": null,
   "metadata": {
    "collapsed": true
   },
   "outputs": [],
   "source": [
    "identifiers = \"/\".join(SnP)"
   ]
  },
  {
   "cell_type": "code",
   "execution_count": 3,
   "metadata": {
    "collapsed": true
   },
   "outputs": [],
   "source": [
    "data = {}\n",
    "for stock in SnP:\n",
    "    portfolioAnalysisRequest = requests.get(\"https://www.blackrock.com/tools/hackathon/performance?\" \\\n",
    "                 + \"betaPortfolios=SNP500&endDate=20171231&identifiers=\"+stock \\\n",
    "                 + \"&riskFreeRatePortfolio=LTBILL1-3M&startDate=20170101\").json()\n",
    "    data[stock] = portfolioAnalysisRequest"
   ]
  },
  {
   "cell_type": "code",
   "execution_count": 9,
   "metadata": {
    "collapsed": true
   },
   "outputs": [],
   "source": [
    "with open('data.json', 'w') as outfile: \n",
    "    json.dump(data, outfile)"
   ]
  },
  {
   "cell_type": "code",
   "execution_count": null,
   "metadata": {
    "collapsed": true
   },
   "outputs": [],
   "source": [
    "failed = []\n",
    "for stock in SnP:\n",
    "    if stock not in data.keys():\n",
    "        failed.append(stock)\n",
    "        SnP.remove(stock)"
   ]
  },
  {
   "cell_type": "code",
   "execution_count": 11,
   "metadata": {
    "collapsed": true
   },
   "outputs": [],
   "source": [
    "fig, ax = plt.subplots(figsize=(60,30))\n",
    "for stock in SnP:\n",
    "    if data[stock]['success'] == True:\n",
    "        Y = [y[1] for y in islice(data[stock]['resultMap']['RETURNS'][0]['performanceChart'], 0, None, 1)]\n",
    "        X = list(range(len(Y)))\n",
    "        plt.plot(X,Y, label=stock)\n",
    "        \n",
    "plt.legend(prop={'size': 30})\n",
    "plt.savefig('SnP.png')"
   ]
  },
  {
   "cell_type": "code",
   "execution_count": 4,
   "metadata": {
    "collapsed": true
   },
   "outputs": [],
   "source": [
    "stock_info = {}\n",
    "for stock in SnP:\n",
    "    if data[stock]['success'] == True:\n",
    "        SecurityDataRequest = requests.get(\"https://www.blackrock.com/tools/hackathon/security-data?identifiers=\"+stock).json()\n",
    "    data[stock]['resultMap']['SECURITY'] = SecurityDataRequest['resultMap']['SECURITY']"
   ]
  },
  {
   "cell_type": "code",
   "execution_count": null,
   "metadata": {
    "collapsed": true
   },
   "outputs": [],
   "source": [
    "from collections import defaultdict\n",
    "sectors = defaultdict(list)\n",
    "for stock in SnP:\n",
    "    if data[stock]['success'] == True:\n",
    "        if 'gics1Sector' in data[stock]['resultMap']['SECURITY'][0]:\n",
    "            sector = data[stock]['resultMap']['SECURITY'][0]['gics1Sector']\n",
    "            sectors[sector].append(stock)"
   ]
  },
  {
   "cell_type": "code",
   "execution_count": null,
   "metadata": {
    "collapsed": true
   },
   "outputs": [],
   "source": [
    "fig, ax1 = plt.subplots(3,4,figsize=(80,60))\n",
    "ax=[]\n",
    "for a in ax1:\n",
    "    for i in a:\n",
    "        ax.append(i)\n",
    "for i, sector in enumerate(sectors.keys()):\n",
    "    for stock in SnP:\n",
    "        if data[stock]['success'] == True:\n",
    "            if 'gics1Sector' in data[stock]['resultMap']['SECURITY'][0]:\n",
    "                if data[stock]['resultMap']['SECURITY'][0]['gics1Sector'] == sector:\n",
    "                    Y = [y[1] for y in islice(data[stock]['resultMap']['RETURNS'][0]['performanceChart'], 0, None, 1)]\n",
    "                    X = list(range(len(Y)))\n",
    "                    ax[i].plot(X, Y, linewidth=4)\n",
    "        \n",
    "        plt.yticks(size=100)\n",
    "        plt.xticks(size=100, rotation=45)\n",
    "        ax[i].set_title(sector)\n",
    "        ax[i].legend(prop={'size': 100})\n",
    "plt.tight_layout()\n",
    "plt.savefig('sectors.png')"
   ]
  },
  {
   "cell_type": "code",
   "execution_count": null,
   "metadata": {
    "collapsed": true
   },
   "outputs": [],
   "source": []
  }
 ],
 "metadata": {
  "kernelspec": {
   "display_name": "Python 2",
   "language": "python",
   "name": "python2"
  },
  "language_info": {
   "codemirror_mode": {
    "name": "ipython",
    "version": 2
   },
   "file_extension": ".py",
   "mimetype": "text/x-python",
   "name": "python",
   "nbconvert_exporter": "python",
   "pygments_lexer": "ipython2",
   "version": "2.7.14"
  }
 },
 "nbformat": 4,
 "nbformat_minor": 2
}
